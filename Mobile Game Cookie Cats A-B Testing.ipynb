{
 "cells": [
  {
   "cell_type": "markdown",
   "id": "030bbaad",
   "metadata": {},
   "source": [
    "###  Project of Mobile Game A/B Testing\n",
    "\n",
    "Cookie Cats is a mobile puzzle game developed and published by Tactile Entertainment. The game focuses on five cats named Rita (pink), Smokey (red), Berry (blue), Ziggy (green), and Belle (yellow). The game was released on April 27, 2016. It is a classic \"connect three\" type puzzle game where the player must connect tiles of the same color in order to clear the board and win the level. It also features cats singing. We are not kidding!\n"
   ]
  },
  {
   "cell_type": "markdown",
   "id": "654e5b11",
   "metadata": {},
   "source": [
    "### Table Of Contents\n",
    "    \n",
    "<ul> \n",
    "<li><a href=\"intro\">Introduction \n",
    "    \n",
    "<li><a href=\"Ques\">Questions\n",
    "\n",
    "<li><a href=\"Wrang\">Data Wrangling\n",
    "    \n",
    "<li><a href=\"A_B\">Exploratory_Data Analysis\n",
    "    \n",
    "<li><a href=\"A_B\">A/B Testing    \n",
    "\n",
    "<li><a href=\"Conclu\">Conclusion"
   ]
  },
  {
   "cell_type": "markdown",
   "id": "0574df42",
   "metadata": {},
   "source": [
    "<h3 id=\"intro\">Introduction"
   ]
  },
  {
   "cell_type": "markdown",
   "id": "97a6ad85",
   "metadata": {},
   "source": [
    "As players progress through the game, they will encounter portals that force them to wait for a while before they can progress or make an in-app purchase. In this project, we will analyze the result of A/B testing where the first portal in Cookie Cats has been moved from level 30 to level 40. In particular, we will analyze the impact on player retention."
   ]
  },
  {
   "cell_type": "markdown",
   "id": "6b86a0c1",
   "metadata": {},
   "source": [
    "<ul>\n",
    "<li>userid - a unique number that identifies each player. \n",
    "<li>version - whether the player was put in the control group (gate_30 - a gate at level 30) or the test group (gate_40 - a <li>gate at level 40).\n",
    "<li>retention_1 - did the player come back and play 1 day after installing?\n",
    "<li>retention_7 - did the player come back and play 7 days after installing?"
   ]
  },
  {
   "cell_type": "markdown",
   "id": "321b2085",
   "metadata": {},
   "source": [
    "<h3>Import libraries.\n"
   ]
  },
  {
   "cell_type": "markdown",
   "id": "baa43a29",
   "metadata": {},
   "source": [
    "**import libraries that can be useful and helpful in this project**"
   ]
  },
  {
   "cell_type": "code",
   "execution_count": 1,
   "id": "8a47a97f",
   "metadata": {},
   "outputs": [
    {
     "name": "stderr",
     "output_type": "stream",
     "text": [
      "C:\\Users\\Islam\\anaconda3\\lib\\site-packages\\statsmodels\\tsa\\base\\tsa_model.py:7: FutureWarning: pandas.Int64Index is deprecated and will be removed from pandas in a future version. Use pandas.Index with the appropriate dtype instead.\n",
      "  from pandas import (to_datetime, Int64Index, DatetimeIndex, Period,\n",
      "C:\\Users\\Islam\\anaconda3\\lib\\site-packages\\statsmodels\\tsa\\base\\tsa_model.py:7: FutureWarning: pandas.Float64Index is deprecated and will be removed from pandas in a future version. Use pandas.Index with the appropriate dtype instead.\n",
      "  from pandas import (to_datetime, Int64Index, DatetimeIndex, Period,\n"
     ]
    }
   ],
   "source": [
    "#import libraries that we will use in our project\n",
    "# Importing needed Lib\n",
    "import pandas as pd\n",
    "import numpy as np\n",
    "import random\n",
    "import time\n",
    "import seaborn as sns\n",
    "import matplotlib.pyplot as plt\n",
    "import statsmodels.api as sm\n",
    "%matplotlib inline\n",
    "from numpy.polynomial.polynomial import polyfit\n",
    "random.seed(42)"
   ]
  },
  {
   "cell_type": "markdown",
   "id": "8eaa0b73",
   "metadata": {},
   "source": [
    "<h3 id=\"Wrang\">Data Wrangling"
   ]
  },
  {
   "cell_type": "markdown",
   "id": "8c47dd26",
   "metadata": {},
   "source": [
    "let's divide data wrangling to three main factors **Gathering Data,assess and cleaning Data**"
   ]
  },
  {
   "cell_type": "markdown",
   "id": "d64f5d1f",
   "metadata": {},
   "source": [
    "<h4>Gathering Data"
   ]
  },
  {
   "cell_type": "code",
   "execution_count": 2,
   "id": "31c03355",
   "metadata": {
    "scrolled": true
   },
   "outputs": [
    {
     "data": {
      "text/html": [
       "<div>\n",
       "<style scoped>\n",
       "    .dataframe tbody tr th:only-of-type {\n",
       "        vertical-align: middle;\n",
       "    }\n",
       "\n",
       "    .dataframe tbody tr th {\n",
       "        vertical-align: top;\n",
       "    }\n",
       "\n",
       "    .dataframe thead th {\n",
       "        text-align: right;\n",
       "    }\n",
       "</style>\n",
       "<table border=\"1\" class=\"dataframe\">\n",
       "  <thead>\n",
       "    <tr style=\"text-align: right;\">\n",
       "      <th></th>\n",
       "      <th>userid</th>\n",
       "      <th>version</th>\n",
       "      <th>sum_gamerounds</th>\n",
       "      <th>retention_1</th>\n",
       "      <th>retention_7</th>\n",
       "    </tr>\n",
       "  </thead>\n",
       "  <tbody>\n",
       "    <tr>\n",
       "      <th>0</th>\n",
       "      <td>116</td>\n",
       "      <td>gate_30</td>\n",
       "      <td>3</td>\n",
       "      <td>False</td>\n",
       "      <td>False</td>\n",
       "    </tr>\n",
       "    <tr>\n",
       "      <th>1</th>\n",
       "      <td>337</td>\n",
       "      <td>gate_30</td>\n",
       "      <td>38</td>\n",
       "      <td>True</td>\n",
       "      <td>False</td>\n",
       "    </tr>\n",
       "    <tr>\n",
       "      <th>2</th>\n",
       "      <td>377</td>\n",
       "      <td>gate_40</td>\n",
       "      <td>165</td>\n",
       "      <td>True</td>\n",
       "      <td>False</td>\n",
       "    </tr>\n",
       "    <tr>\n",
       "      <th>3</th>\n",
       "      <td>483</td>\n",
       "      <td>gate_40</td>\n",
       "      <td>1</td>\n",
       "      <td>False</td>\n",
       "      <td>False</td>\n",
       "    </tr>\n",
       "    <tr>\n",
       "      <th>4</th>\n",
       "      <td>488</td>\n",
       "      <td>gate_40</td>\n",
       "      <td>179</td>\n",
       "      <td>True</td>\n",
       "      <td>True</td>\n",
       "    </tr>\n",
       "  </tbody>\n",
       "</table>\n",
       "</div>"
      ],
      "text/plain": [
       "   userid  version  sum_gamerounds  retention_1  retention_7\n",
       "0     116  gate_30               3        False        False\n",
       "1     337  gate_30              38         True        False\n",
       "2     377  gate_40             165         True        False\n",
       "3     483  gate_40               1        False        False\n",
       "4     488  gate_40             179         True         True"
      ]
     },
     "execution_count": 2,
     "metadata": {},
     "output_type": "execute_result"
    }
   ],
   "source": [
    "#import our dataset -the file is csv so we will use read_csv to read our file\n",
    "df=pd.read_csv(\"cookie_cats.csv\")\n",
    "df.head()"
   ]
  },
  {
   "cell_type": "markdown",
   "id": "0c62e2fd",
   "metadata": {},
   "source": [
    "<h4>Assessing Data\n"
   ]
  },
  {
   "cell_type": "markdown",
   "id": "81449b4f",
   "metadata": {},
   "source": [
    "at this section we dig into the data if they duplicated rows or missing value or rename columns"
   ]
  },
  {
   "cell_type": "code",
   "execution_count": 3,
   "id": "3f8684b5",
   "metadata": {},
   "outputs": [
    {
     "data": {
      "text/plain": [
       "(90189, 5)"
      ]
     },
     "execution_count": 3,
     "metadata": {},
     "output_type": "execute_result"
    }
   ],
   "source": [
    "#show how many rows and columns in our dataset\n",
    "df.shape"
   ]
  },
  {
   "cell_type": "code",
   "execution_count": 4,
   "id": "0ec0daa6",
   "metadata": {},
   "outputs": [
    {
     "data": {
      "text/plain": [
       "userid            0\n",
       "version           0\n",
       "sum_gamerounds    0\n",
       "retention_1       0\n",
       "retention_7       0\n",
       "dtype: int64"
      ]
     },
     "execution_count": 4,
     "metadata": {},
     "output_type": "execute_result"
    }
   ],
   "source": [
    "#look into if there's any missing value\n",
    "df.isnull().sum()"
   ]
  },
  {
   "cell_type": "markdown",
   "id": "fe13331b",
   "metadata": {},
   "source": [
    "**we notice that there are not any missing value**"
   ]
  },
  {
   "cell_type": "code",
   "execution_count": 5,
   "id": "f2ffa836",
   "metadata": {},
   "outputs": [
    {
     "name": "stdout",
     "output_type": "stream",
     "text": [
      "<class 'pandas.core.frame.DataFrame'>\n",
      "RangeIndex: 90189 entries, 0 to 90188\n",
      "Data columns (total 5 columns):\n",
      " #   Column          Non-Null Count  Dtype \n",
      "---  ------          --------------  ----- \n",
      " 0   userid          90189 non-null  int64 \n",
      " 1   version         90189 non-null  object\n",
      " 2   sum_gamerounds  90189 non-null  int64 \n",
      " 3   retention_1     90189 non-null  bool  \n",
      " 4   retention_7     90189 non-null  bool  \n",
      "dtypes: bool(2), int64(2), object(1)\n",
      "memory usage: 2.2+ MB\n"
     ]
    }
   ],
   "source": [
    "#info regaring types of columns\n",
    "df.info()"
   ]
  },
  {
   "cell_type": "code",
   "execution_count": 6,
   "id": "5469dea1",
   "metadata": {},
   "outputs": [
    {
     "data": {
      "text/html": [
       "<div>\n",
       "<style scoped>\n",
       "    .dataframe tbody tr th:only-of-type {\n",
       "        vertical-align: middle;\n",
       "    }\n",
       "\n",
       "    .dataframe tbody tr th {\n",
       "        vertical-align: top;\n",
       "    }\n",
       "\n",
       "    .dataframe thead th {\n",
       "        text-align: right;\n",
       "    }\n",
       "</style>\n",
       "<table border=\"1\" class=\"dataframe\">\n",
       "  <thead>\n",
       "    <tr style=\"text-align: right;\">\n",
       "      <th></th>\n",
       "      <th>userid</th>\n",
       "      <th>sum_gamerounds</th>\n",
       "    </tr>\n",
       "  </thead>\n",
       "  <tbody>\n",
       "    <tr>\n",
       "      <th>count</th>\n",
       "      <td>9.018900e+04</td>\n",
       "      <td>90189.000000</td>\n",
       "    </tr>\n",
       "    <tr>\n",
       "      <th>mean</th>\n",
       "      <td>4.998412e+06</td>\n",
       "      <td>51.872457</td>\n",
       "    </tr>\n",
       "    <tr>\n",
       "      <th>std</th>\n",
       "      <td>2.883286e+06</td>\n",
       "      <td>195.050858</td>\n",
       "    </tr>\n",
       "    <tr>\n",
       "      <th>min</th>\n",
       "      <td>1.160000e+02</td>\n",
       "      <td>0.000000</td>\n",
       "    </tr>\n",
       "    <tr>\n",
       "      <th>25%</th>\n",
       "      <td>2.512230e+06</td>\n",
       "      <td>5.000000</td>\n",
       "    </tr>\n",
       "    <tr>\n",
       "      <th>50%</th>\n",
       "      <td>4.995815e+06</td>\n",
       "      <td>16.000000</td>\n",
       "    </tr>\n",
       "    <tr>\n",
       "      <th>75%</th>\n",
       "      <td>7.496452e+06</td>\n",
       "      <td>51.000000</td>\n",
       "    </tr>\n",
       "    <tr>\n",
       "      <th>max</th>\n",
       "      <td>9.999861e+06</td>\n",
       "      <td>49854.000000</td>\n",
       "    </tr>\n",
       "  </tbody>\n",
       "</table>\n",
       "</div>"
      ],
      "text/plain": [
       "             userid  sum_gamerounds\n",
       "count  9.018900e+04    90189.000000\n",
       "mean   4.998412e+06       51.872457\n",
       "std    2.883286e+06      195.050858\n",
       "min    1.160000e+02        0.000000\n",
       "25%    2.512230e+06        5.000000\n",
       "50%    4.995815e+06       16.000000\n",
       "75%    7.496452e+06       51.000000\n",
       "max    9.999861e+06    49854.000000"
      ]
     },
     "execution_count": 6,
     "metadata": {},
     "output_type": "execute_result"
    }
   ],
   "source": [
    "# info about numerical types of our columns\n",
    "df.describe()"
   ]
  },
  {
   "cell_type": "code",
   "execution_count": 7,
   "id": "bc6d0e83",
   "metadata": {},
   "outputs": [
    {
     "data": {
      "text/plain": [
       "userid            90189\n",
       "version               2\n",
       "sum_gamerounds      942\n",
       "retention_1           2\n",
       "retention_7           2\n",
       "dtype: int64"
      ]
     },
     "execution_count": 7,
     "metadata": {},
     "output_type": "execute_result"
    }
   ],
   "source": [
    "# number of non-null unique values for each feature\n",
    "df.nunique()\n"
   ]
  },
  {
   "cell_type": "code",
   "execution_count": 8,
   "id": "ae7ff506",
   "metadata": {},
   "outputs": [
    {
     "data": {
      "text/plain": [
       "0"
      ]
     },
     "execution_count": 8,
     "metadata": {},
     "output_type": "execute_result"
    }
   ],
   "source": [
    "# if there's any duplicated numbers \n",
    "df.duplicated().sum()"
   ]
  },
  {
   "cell_type": "markdown",
   "id": "194391b6",
   "metadata": {},
   "source": [
    "<h4>Data Cleaning\n"
   ]
  },
  {
   "cell_type": "code",
   "execution_count": 9,
   "id": "62ae6e21",
   "metadata": {},
   "outputs": [],
   "source": [
    "#rename some columns to be more clear and properly explained\n",
    "df=df.rename(columns={\"userid\":\"User_id\"})\n"
   ]
  },
  {
   "cell_type": "code",
   "execution_count": 10,
   "id": "9f0f3301",
   "metadata": {},
   "outputs": [
    {
     "data": {
      "text/html": [
       "<div>\n",
       "<style scoped>\n",
       "    .dataframe tbody tr th:only-of-type {\n",
       "        vertical-align: middle;\n",
       "    }\n",
       "\n",
       "    .dataframe tbody tr th {\n",
       "        vertical-align: top;\n",
       "    }\n",
       "\n",
       "    .dataframe thead th {\n",
       "        text-align: right;\n",
       "    }\n",
       "</style>\n",
       "<table border=\"1\" class=\"dataframe\">\n",
       "  <thead>\n",
       "    <tr style=\"text-align: right;\">\n",
       "      <th></th>\n",
       "      <th>User_id</th>\n",
       "      <th>version</th>\n",
       "      <th>sum_gamerounds</th>\n",
       "      <th>retention_1</th>\n",
       "      <th>retention_7</th>\n",
       "    </tr>\n",
       "  </thead>\n",
       "  <tbody>\n",
       "    <tr>\n",
       "      <th>0</th>\n",
       "      <td>116</td>\n",
       "      <td>gate_30</td>\n",
       "      <td>3</td>\n",
       "      <td>False</td>\n",
       "      <td>False</td>\n",
       "    </tr>\n",
       "    <tr>\n",
       "      <th>1</th>\n",
       "      <td>337</td>\n",
       "      <td>gate_30</td>\n",
       "      <td>38</td>\n",
       "      <td>True</td>\n",
       "      <td>False</td>\n",
       "    </tr>\n",
       "  </tbody>\n",
       "</table>\n",
       "</div>"
      ],
      "text/plain": [
       "   User_id  version  sum_gamerounds  retention_1  retention_7\n",
       "0      116  gate_30               3        False        False\n",
       "1      337  gate_30              38         True        False"
      ]
     },
     "execution_count": 10,
     "metadata": {},
     "output_type": "execute_result"
    }
   ],
   "source": [
    "df.head(2)"
   ]
  },
  {
   "cell_type": "markdown",
   "id": "81c14148",
   "metadata": {},
   "source": [
    "<h3 id=\"eda\">Exploratory_Data Analysis\n"
   ]
  },
  {
   "cell_type": "markdown",
   "id": "0a622eed",
   "metadata": {},
   "source": [
    "<ul><li>Explore our dataset if there are any outliers or find out any value that we didn't detect when we do any numerical computation"
   ]
  },
  {
   "cell_type": "code",
   "execution_count": 11,
   "id": "8f9cd4c9",
   "metadata": {
    "scrolled": true
   },
   "outputs": [
    {
     "data": {
      "text/html": [
       "<div>\n",
       "<style scoped>\n",
       "    .dataframe tbody tr th:only-of-type {\n",
       "        vertical-align: middle;\n",
       "    }\n",
       "\n",
       "    .dataframe tbody tr th {\n",
       "        vertical-align: top;\n",
       "    }\n",
       "\n",
       "    .dataframe thead th {\n",
       "        text-align: right;\n",
       "    }\n",
       "</style>\n",
       "<table border=\"1\" class=\"dataframe\">\n",
       "  <thead>\n",
       "    <tr style=\"text-align: right;\">\n",
       "      <th></th>\n",
       "      <th>User_id</th>\n",
       "      <th>version</th>\n",
       "      <th>sum_gamerounds</th>\n",
       "      <th>retention_1</th>\n",
       "      <th>retention_7</th>\n",
       "    </tr>\n",
       "  </thead>\n",
       "  <tbody>\n",
       "    <tr>\n",
       "      <th>0</th>\n",
       "      <td>116</td>\n",
       "      <td>gate_30</td>\n",
       "      <td>3</td>\n",
       "      <td>False</td>\n",
       "      <td>False</td>\n",
       "    </tr>\n",
       "    <tr>\n",
       "      <th>1</th>\n",
       "      <td>337</td>\n",
       "      <td>gate_30</td>\n",
       "      <td>38</td>\n",
       "      <td>True</td>\n",
       "      <td>False</td>\n",
       "    </tr>\n",
       "  </tbody>\n",
       "</table>\n",
       "</div>"
      ],
      "text/plain": [
       "   User_id  version  sum_gamerounds  retention_1  retention_7\n",
       "0      116  gate_30               3        False        False\n",
       "1      337  gate_30              38         True        False"
      ]
     },
     "execution_count": 11,
     "metadata": {},
     "output_type": "execute_result"
    }
   ],
   "source": [
    "df.head(2)"
   ]
  },
  {
   "cell_type": "code",
   "execution_count": 12,
   "id": "def0098e",
   "metadata": {},
   "outputs": [
    {
     "data": {
      "image/png": "[encoded data removed]",
      "text/plain": [
       "<Figure size 432x288 with 1 Axes>"
      ]
     },
     "metadata": {
      "needs_background": "light"
     },
     "output_type": "display_data"
    }
   ],
   "source": [
    "plt.boxplot(df[\"sum_gamerounds\"]);"
   ]
  },
  {
   "cell_type": "code",
   "execution_count": 13,
   "id": "b2ac8ed7",
   "metadata": {
    "scrolled": false
   },
   "outputs": [
    {
     "data": {
      "image/png": "[encoded data removed]",
      "text/plain": [
       "<Figure size 576x432 with 1 Axes>"
      ]
     },
     "metadata": {
      "needs_background": "light"
     },
     "output_type": "display_data"
    }
   ],
   "source": [
    "plt.figure(figsize=[8,6])\n",
    "df[\"version\"].hist()\n",
    "plt.xlabel(\"gate\")\n",
    "plt.ylabel(\"Number\")\n",
    "plt.legend(\"gate\")\n",
    "plt.show()"
   ]
  },
  {
   "cell_type": "code",
   "execution_count": 14,
   "id": "fb8ad1e0",
   "metadata": {},
   "outputs": [
    {
     "data": {
      "text/plain": [
       "Text(0.5, 0, '# Game rounds')"
      ]
     },
     "execution_count": 14,
     "metadata": {},
     "output_type": "execute_result"
    },
    {
     "data": {
      "image/png": "[encoded data removed]",
      "text/plain": [
       "<Figure size 648x432 with 1 Axes>"
      ]
     },
     "metadata": {
      "needs_background": "light"
     },
     "output_type": "display_data"
    }
   ],
   "source": [
    "# Counting the number of players for each number of gamerounds \n",
    "plot_df = df.groupby('sum_gamerounds')['User_id'].count()\n",
    "plot_df\n",
    "ax = plot_df[:100].plot(figsize=(9,6))\n",
    "ax.set_title(\"The number of players that played 0-100 game rounds during the first week\")\n",
    "ax.set_ylabel(\"Number of Players\")\n",
    "ax.set_xlabel('# Game rounds')"
   ]
  },
  {
   "cell_type": "markdown",
   "id": "e7bffaac",
   "metadata": {},
   "source": [
    "The distribution is highly skewed, with a long tail on the right. A huge number of players played fewer than 20 rounds and left the game. For rounds greater than 60, the number of players stayed steady at about 300.\n",
    "\n"
   ]
  },
  {
   "cell_type": "code",
   "execution_count": 15,
   "id": "3af0f22b",
   "metadata": {},
   "outputs": [
    {
     "data": {
      "text/plain": [
       "<AxesSubplot:>"
      ]
     },
     "execution_count": 15,
     "metadata": {},
     "output_type": "execute_result"
    },
    {
     "data": {
      "image/png": "[encoded data removed]",
      "text/plain": [
       "<Figure size 360x720 with 1 Axes>"
      ]
     },
     "metadata": {
      "needs_background": "light"
     },
     "output_type": "display_data"
    }
   ],
   "source": [
    "df['sum_gamerounds'].plot.box(figsize=(5,10))"
   ]
  },
  {
   "cell_type": "code",
   "execution_count": 16,
   "id": "46aba709",
   "metadata": {},
   "outputs": [
    {
     "data": {
      "text/html": [
       "<div>\n",
       "<style scoped>\n",
       "    .dataframe tbody tr th:only-of-type {\n",
       "        vertical-align: middle;\n",
       "    }\n",
       "\n",
       "    .dataframe tbody tr th {\n",
       "        vertical-align: top;\n",
       "    }\n",
       "\n",
       "    .dataframe thead tr th {\n",
       "        text-align: left;\n",
       "    }\n",
       "\n",
       "    .dataframe thead tr:last-of-type th {\n",
       "        text-align: right;\n",
       "    }\n",
       "</style>\n",
       "<table border=\"1\" class=\"dataframe\">\n",
       "  <thead>\n",
       "    <tr>\n",
       "      <th></th>\n",
       "      <th colspan=\"2\" halign=\"left\">User_id</th>\n",
       "      <th colspan=\"2\" halign=\"left\">sum_gamerounds</th>\n",
       "      <th colspan=\"2\" halign=\"left\">retention_1</th>\n",
       "      <th colspan=\"2\" halign=\"left\">retention_7</th>\n",
       "    </tr>\n",
       "    <tr>\n",
       "      <th></th>\n",
       "      <th>mean</th>\n",
       "      <th>count</th>\n",
       "      <th>mean</th>\n",
       "      <th>count</th>\n",
       "      <th>mean</th>\n",
       "      <th>count</th>\n",
       "      <th>mean</th>\n",
       "      <th>count</th>\n",
       "    </tr>\n",
       "    <tr>\n",
       "      <th>version</th>\n",
       "      <th></th>\n",
       "      <th></th>\n",
       "      <th></th>\n",
       "      <th></th>\n",
       "      <th></th>\n",
       "      <th></th>\n",
       "      <th></th>\n",
       "      <th></th>\n",
       "    </tr>\n",
       "  </thead>\n",
       "  <tbody>\n",
       "    <tr>\n",
       "      <th>gate_30</th>\n",
       "      <td>4.987564e+06</td>\n",
       "      <td>44700</td>\n",
       "      <td>52.456264</td>\n",
       "      <td>44700</td>\n",
       "      <td>0.448188</td>\n",
       "      <td>44700</td>\n",
       "      <td>0.190201</td>\n",
       "      <td>44700</td>\n",
       "    </tr>\n",
       "    <tr>\n",
       "      <th>gate_40</th>\n",
       "      <td>5.009073e+06</td>\n",
       "      <td>45489</td>\n",
       "      <td>51.298776</td>\n",
       "      <td>45489</td>\n",
       "      <td>0.442283</td>\n",
       "      <td>45489</td>\n",
       "      <td>0.182000</td>\n",
       "      <td>45489</td>\n",
       "    </tr>\n",
       "  </tbody>\n",
       "</table>\n",
       "</div>"
      ],
      "text/plain": [
       "              User_id        sum_gamerounds        retention_1         \\\n",
       "                 mean  count           mean  count        mean  count   \n",
       "version                                                                 \n",
       "gate_30  4.987564e+06  44700      52.456264  44700    0.448188  44700   \n",
       "gate_40  5.009073e+06  45489      51.298776  45489    0.442283  45489   \n",
       "\n",
       "        retention_7         \n",
       "               mean  count  \n",
       "version                     \n",
       "gate_30    0.190201  44700  \n",
       "gate_40    0.182000  45489  "
      ]
     },
     "execution_count": 16,
     "metadata": {},
     "output_type": "execute_result"
    }
   ],
   "source": [
    "df.groupby(\"version\").agg([\"mean\",\"count\"])"
   ]
  },
  {
   "cell_type": "code",
   "execution_count": 17,
   "id": "ff600cd8",
   "metadata": {},
   "outputs": [
    {
     "data": {
      "text/html": [
       "<div>\n",
       "<style scoped>\n",
       "    .dataframe tbody tr th:only-of-type {\n",
       "        vertical-align: middle;\n",
       "    }\n",
       "\n",
       "    .dataframe tbody tr th {\n",
       "        vertical-align: top;\n",
       "    }\n",
       "\n",
       "    .dataframe thead th {\n",
       "        text-align: right;\n",
       "    }\n",
       "</style>\n",
       "<table border=\"1\" class=\"dataframe\">\n",
       "  <thead>\n",
       "    <tr style=\"text-align: right;\">\n",
       "      <th></th>\n",
       "      <th>count</th>\n",
       "      <th>median</th>\n",
       "      <th>mean</th>\n",
       "      <th>std</th>\n",
       "      <th>max</th>\n",
       "    </tr>\n",
       "    <tr>\n",
       "      <th>version</th>\n",
       "      <th></th>\n",
       "      <th></th>\n",
       "      <th></th>\n",
       "      <th></th>\n",
       "      <th></th>\n",
       "    </tr>\n",
       "  </thead>\n",
       "  <tbody>\n",
       "    <tr>\n",
       "      <th>gate_30</th>\n",
       "      <td>44700</td>\n",
       "      <td>17.0</td>\n",
       "      <td>52.456264</td>\n",
       "      <td>256.716423</td>\n",
       "      <td>49854</td>\n",
       "    </tr>\n",
       "    <tr>\n",
       "      <th>gate_40</th>\n",
       "      <td>45489</td>\n",
       "      <td>16.0</td>\n",
       "      <td>51.298776</td>\n",
       "      <td>103.294416</td>\n",
       "      <td>2640</td>\n",
       "    </tr>\n",
       "  </tbody>\n",
       "</table>\n",
       "</div>"
      ],
      "text/plain": [
       "         count  median       mean         std    max\n",
       "version                                             \n",
       "gate_30  44700    17.0  52.456264  256.716423  49854\n",
       "gate_40  45489    16.0  51.298776  103.294416   2640"
      ]
     },
     "execution_count": 17,
     "metadata": {},
     "output_type": "execute_result"
    }
   ],
   "source": [
    "# A/B Groups & Target Summary Stats\n",
    "df.groupby(\"version\").sum_gamerounds.agg([\"count\", \"median\", \"mean\", \"std\", \"max\"])"
   ]
  },
  {
   "cell_type": "markdown",
   "id": "a5445987",
   "metadata": {},
   "source": [
    "<h3>A/B Testing    \n"
   ]
  },
  {
   "cell_type": "markdown",
   "id": "6e591187",
   "metadata": {},
   "source": [
    "<a id='ab_test'></a>\n",
    "\n",
    "Notice that because of the time stamp associated with each event, you could technically run a hypothesis test continuously as each observation was observed.  \n",
    "\n",
    "However, then the hard question is do you stop as soon as the gate is considered significantly better than another or does it need to happen consistently for a certain amount of time?  How long do you run to render a decision that neither gate is better than another?  \n",
    "\n",
    "These questions are the difficult parts associated with A/B tests in general.  \n",
    "\n",
    "\n",
    "`1.` For now, consider you need to make the decision just based on all the data provided.  If you want to assume that the gate 40 is better unless the gate 30 proves to be definitely better at a Type I error rate of 5%, what should your null and alternative hypotheses be?  You can state your hypothesis in terms of words or in terms of \n"
   ]
  },
  {
   "cell_type": "markdown",
   "id": "3d0f1147",
   "metadata": {},
   "source": [
    "A. *Null hypothesis: the conversion rate of the gate_40 is greater or the same than the conversion rate of the gate_30.\n",
    "    $$H_0: {gate_4} - {gate_3} ≤ 0$$\n",
    "\n",
    "B. Alternative hypothesis: the conversion rate of the gate_40 is less than the conversion rate of the \n",
    "    gate_30.$$H_1: {gate_4} - {gate_3} > 0$$"
   ]
  },
  {
   "cell_type": "markdown",
   "id": "ea3ccc62",
   "metadata": {},
   "source": [
    "#### Day 1 Retention\n"
   ]
  },
  {
   "cell_type": "code",
   "execution_count": 18,
   "id": "bcc0a330",
   "metadata": {},
   "outputs": [
    {
     "data": {
      "text/html": [
       "<div>\n",
       "<style scoped>\n",
       "    .dataframe tbody tr th:only-of-type {\n",
       "        vertical-align: middle;\n",
       "    }\n",
       "\n",
       "    .dataframe tbody tr th {\n",
       "        vertical-align: top;\n",
       "    }\n",
       "\n",
       "    .dataframe thead th {\n",
       "        text-align: right;\n",
       "    }\n",
       "</style>\n",
       "<table border=\"1\" class=\"dataframe\">\n",
       "  <thead>\n",
       "    <tr style=\"text-align: right;\">\n",
       "      <th></th>\n",
       "      <th>User_id</th>\n",
       "      <th>version</th>\n",
       "      <th>sum_gamerounds</th>\n",
       "      <th>retention_1</th>\n",
       "      <th>retention_7</th>\n",
       "    </tr>\n",
       "  </thead>\n",
       "  <tbody>\n",
       "    <tr>\n",
       "      <th>0</th>\n",
       "      <td>116</td>\n",
       "      <td>gate_30</td>\n",
       "      <td>3</td>\n",
       "      <td>False</td>\n",
       "      <td>False</td>\n",
       "    </tr>\n",
       "    <tr>\n",
       "      <th>1</th>\n",
       "      <td>337</td>\n",
       "      <td>gate_30</td>\n",
       "      <td>38</td>\n",
       "      <td>True</td>\n",
       "      <td>False</td>\n",
       "    </tr>\n",
       "  </tbody>\n",
       "</table>\n",
       "</div>"
      ],
      "text/plain": [
       "   User_id  version  sum_gamerounds  retention_1  retention_7\n",
       "0      116  gate_30               3        False        False\n",
       "1      337  gate_30              38         True        False"
      ]
     },
     "execution_count": 18,
     "metadata": {},
     "output_type": "execute_result"
    }
   ],
   "source": [
    "df.head(2)"
   ]
  },
  {
   "cell_type": "markdown",
   "id": "3c63cf92",
   "metadata": {},
   "source": [
    "$$H_0: {gate_4} - {gate_3} ≤ 0$$\n",
    "\n",
    "\n",
    "$$H_1: {gate_4} - {gate_3} > 0$$"
   ]
  },
  {
   "cell_type": "markdown",
   "id": "54398135",
   "metadata": {},
   "source": [
    "c. What is $n_{gate30}$? and  What is $n_{gate40}$?"
   ]
  },
  {
   "cell_type": "code",
   "execution_count": 19,
   "id": "9c06059c",
   "metadata": {},
   "outputs": [
    {
     "data": {
      "text/plain": [
       "(44700, 45489)"
      ]
     },
     "execution_count": 19,
     "metadata": {},
     "output_type": "execute_result"
    }
   ],
   "source": [
    "#shape of gate 30\n",
    "gate_30=df[df[\"version\"]==\"gate_30\"]\n",
    "gate_40=df[df[\"version\"]==\"gate_40\"]\n",
    "n_30=gate_30.shape[0]\n",
    "n_40=gate_40.shape[0]\n",
    "n_30,n_40"
   ]
  },
  {
   "cell_type": "markdown",
   "id": "f78ccb0b",
   "metadata": {},
   "source": [
    "a. What is the **retention rate** for $p_{gate_30}$ under the null?  and a. What is the **retention rate** for $p_{gate_40}$ under the null? "
   ]
  },
  {
   "cell_type": "code",
   "execution_count": 20,
   "id": "2308da19",
   "metadata": {
    "scrolled": true
   },
   "outputs": [
    {
     "data": {
      "text/plain": [
       "(0.4481879194630872, 0.44228274967574577)"
      ]
     },
     "execution_count": 20,
     "metadata": {},
     "output_type": "execute_result"
    }
   ],
   "source": [
    "#mean of gate_30 and gate_40\n",
    "m_30=gate_30[gate_30[\"version\"]==\"gate_30\"][\"retention_1\"].mean()\n",
    "m_40=gate_40[gate_40[\"version\"]==\"gate_40\"][\"retention_1\"].mean()\n",
    "m_30,m_40"
   ]
  },
  {
   "cell_type": "markdown",
   "id": "a4d65b01",
   "metadata": {},
   "source": [
    "g. Find $p_{gate_40}$ - $p_{gate_30}$ for your simulated values from part (e) and (f)."
   ]
  },
  {
   "cell_type": "code",
   "execution_count": 21,
   "id": "dacc24e2",
   "metadata": {},
   "outputs": [
    {
     "data": {
      "text/plain": [
       "-0.005905169787341458"
      ]
     },
     "execution_count": 21,
     "metadata": {},
     "output_type": "execute_result"
    }
   ],
   "source": [
    "#the different them\n",
    "p_diff=m_40-m_30\n",
    "p_diff"
   ]
  },
  {
   "cell_type": "code",
   "execution_count": 22,
   "id": "d1ed7466",
   "metadata": {},
   "outputs": [
    {
     "data": {
      "text/plain": [
       "(0.44865771812080535, 0.4404801160720174)"
      ]
     },
     "execution_count": 22,
     "metadata": {},
     "output_type": "execute_result"
    }
   ],
   "source": [
    "#statistics with numpy and repeat the operation \n",
    "gate_30_choice=np.random.choice([0,1],p=[1-m_30,m_30],size=[44700])\n",
    "gate_40_choice=np.random.choice([0,1],p=[1-m_40,m_40],size=[45489])\n",
    "gate_30_choice.mean(),gate_40_choice.mean()"
   ]
  },
  {
   "cell_type": "markdown",
   "id": "61f8db96",
   "metadata": {},
   "source": [
    "h. Simulate 10,000 $p_{gate_40}$ - $p_{gate_30}$ values using this same process similarly to the one you calculated in parts **a. through g.** above.  Store all 10,000 values in a numpy array called **diff**."
   ]
  },
  {
   "cell_type": "markdown",
   "id": "ccd834e8",
   "metadata": {},
   "source": [
    "The Bonferroni correction compensates for that increase by testing each individual hypothesis at a significance level of {\\displaystyle \\alpha /m}\\alpha /m, where {\\displaystyle \\alpha }\\alpha  is the desired overall alpha level and {\\displaystyle m}m is the number of hypotheses.[4] For example, if a trial is testing {\\displaystyle m=20}m=20 hypotheses with a desired {\\displaystyle \\alpha =0.05}\\alpha = 0.05, then the Bonferroni correction would test each individual hypothesis at {\\displaystyle \\alpha =0.05/20=0.0025}{\\displaystyle \\alpha =0.05/20=0.0025}. Likewise, when constructing multiple"
   ]
  },
  {
   "cell_type": "markdown",
   "id": "583ee101",
   "metadata": {},
   "source": [
    "we used here 2 metrics so divive alpha twice .05/2 so alpha is .025"
   ]
  },
  {
   "cell_type": "code",
   "execution_count": 23,
   "id": "5491227d",
   "metadata": {},
   "outputs": [
    {
     "data": {
      "image/png": "[encoded data removed]",
      "text/plain": [
       "<Figure size 432x288 with 1 Axes>"
      ]
     },
     "metadata": {
      "needs_background": "light"
     },
     "output_type": "display_data"
    }
   ],
   "source": [
    "#for loop to do the reapeat\n",
    "diff=[]\n",
    "for _ in range(10000):\n",
    "    gate_30_choice=np.random.choice([0,1],p=[1-m_30,m_30],size=[44700])\n",
    "    gate_40_choice=np.random.choice([0,1],p=[1-m_40,m_40],size=[45489])\n",
    "    diff.append(gate_40_choice.mean()-gate_30_choice.mean())\n",
    "diff=np.array(diff)\n",
    "\n",
    "#a histogram of the **diff**.  Does this plot look like what you expected?\n",
    "plt.hist(diff);\n"
   ]
  },
  {
   "cell_type": "code",
   "execution_count": 24,
   "id": "1309a6d7",
   "metadata": {},
   "outputs": [
    {
     "data": {
      "text/plain": [
       "<matplotlib.lines.Line2D at 0x2bc30053a60>"
      ]
     },
     "execution_count": 24,
     "metadata": {},
     "output_type": "execute_result"
    },
    {
     "data": {
      "image/png": "[encoded data removed]",
      "text/plain": [
       "<Figure size 432x288 with 1 Axes>"
      ]
     },
     "metadata": {
      "needs_background": "light"
     },
     "output_type": "display_data"
    }
   ],
   "source": [
    "#will make normal shape under the null\n",
    "p_null=np.random.normal(0,np.std(diff),10000)\n",
    "plt.hist(p_null);\n",
    "plt.axvline(p_diff,color=\"red\",lw=2)"
   ]
  },
  {
   "cell_type": "code",
   "execution_count": 25,
   "id": "8809e6d3",
   "metadata": {},
   "outputs": [
    {
     "data": {
      "text/plain": [
       "0.9594"
      ]
     },
     "execution_count": 25,
     "metadata": {},
     "output_type": "execute_result"
    }
   ],
   "source": [
    "#calcualte p_value regarding alternative\n",
    "(p_null > diff.mean()).mean()"
   ]
  },
  {
   "cell_type": "markdown",
   "id": "3128c234",
   "metadata": {},
   "source": [
    "c-Our p-value is  exceeds the critical value of 0.025 in this case and so we shouldn't reject the null hypothesis, so we should stick with gate_30 and not move up to gate_40.Users in Gate30 have higher 1 day retention than Gate40"
   ]
  },
  {
   "cell_type": "markdown",
   "id": "032ef018",
   "metadata": {},
   "source": [
    "#### Day 7 Retention\n"
   ]
  },
  {
   "cell_type": "markdown",
   "id": "fbafcf4a",
   "metadata": {},
   "source": [
    "**as we did previously at retention \n",
    "day 1 we repeat that  at retention day 1**"
   ]
  },
  {
   "cell_type": "markdown",
   "id": "20ce5dec",
   "metadata": {},
   "source": [
    "**Note** that when I create a variable, we put 7 means day 7 so it doesn't overlap with an another variable"
   ]
  },
  {
   "cell_type": "markdown",
   "id": "b439b336",
   "metadata": {},
   "source": [
    "a. What is the **retention rate** for $p_{gate_30}$ under the null?  and a. What is the **retention 7** for $p_{gate_40}$ under the null? "
   ]
  },
  {
   "cell_type": "code",
   "execution_count": 26,
   "id": "fc978125",
   "metadata": {},
   "outputs": [
    {
     "data": {
      "text/plain": [
       "(0.19020134228187918, 0.18200004396667327)"
      ]
     },
     "execution_count": 26,
     "metadata": {},
     "output_type": "execute_result"
    }
   ],
   "source": [
    "#mean of gate_30 and gate_40\n",
    "m_30_7=gate_30[gate_30[\"version\"]==\"gate_30\"][\"retention_7\"].mean()\n",
    "m_40_7=gate_40[gate_40[\"version\"]==\"gate_40\"][\"retention_7\"].mean()\n",
    "m_30_7,m_40_7"
   ]
  },
  {
   "cell_type": "code",
   "execution_count": 27,
   "id": "d33394be",
   "metadata": {},
   "outputs": [
    {
     "data": {
      "text/plain": [
       "-0.008201298315205913"
      ]
     },
     "execution_count": 27,
     "metadata": {},
     "output_type": "execute_result"
    }
   ],
   "source": [
    "diff_7=m_40_7-m_30_7\n",
    "diff_7"
   ]
  },
  {
   "cell_type": "markdown",
   "id": "0aeb4904",
   "metadata": {},
   "source": [
    "h. Simulate 10,000 $p_{gate_40}$ - $p_{gate_30}$ values using this same process similarly to the one you calculated in parts **a. through g.** above.  Store all 10,000 values in a numpy array called **p_diff_7**."
   ]
  },
  {
   "cell_type": "code",
   "execution_count": 28,
   "id": "c7e49202",
   "metadata": {},
   "outputs": [
    {
     "data": {
      "image/png": "[encoded data removed]",
      "text/plain": [
       "<Figure size 432x288 with 1 Axes>"
      ]
     },
     "metadata": {
      "needs_background": "light"
     },
     "output_type": "display_data"
    }
   ],
   "source": [
    "#for loop to do the reapeat\n",
    "p_diff_7=[]\n",
    "for _ in range(10000):\n",
    "    gate_30_choice_7=np.random.choice([0,1],p=[1-m_30_7,m_30_7],size=[44700])\n",
    "    gate_40_choice_7=np.random.choice([0,1],p=[1-m_40_7,m_40_7],size=[45489])\n",
    "    p_diff_7.append(gate_40_choice_7.mean()-gate_30_choice_7.mean())\n",
    "p_diff_7=np.array(p_diff_7)\n",
    "\n",
    "#a histogram of the **diff**.  Does this plot look like what you expected?\n",
    "plt.hist(p_diff_7);"
   ]
  },
  {
   "cell_type": "code",
   "execution_count": 29,
   "id": "ad13f564",
   "metadata": {},
   "outputs": [
    {
     "data": {
      "text/plain": [
       "<matplotlib.lines.Line2D at 0x2bc378eb730>"
      ]
     },
     "execution_count": 29,
     "metadata": {},
     "output_type": "execute_result"
    },
    {
     "data": {
      "image/png": "[encoded data removed]",
      "text/plain": [
       "<Figure size 432x288 with 1 Axes>"
      ]
     },
     "metadata": {
      "needs_background": "light"
     },
     "output_type": "display_data"
    }
   ],
   "source": [
    "#will make normal shape under the null\n",
    "p_null_7=np.random.normal(0,np.std(p_diff_7),10000)\n",
    "plt.hist(p_null_7);\n",
    "plt.axvline(diff_7,color=\"red\",lw=2)"
   ]
  },
  {
   "cell_type": "code",
   "execution_count": 30,
   "id": "ffcefd75",
   "metadata": {},
   "outputs": [
    {
     "data": {
      "text/plain": [
       "0.9993"
      ]
     },
     "execution_count": 30,
     "metadata": {},
     "output_type": "execute_result"
    }
   ],
   "source": [
    "#calcualte p_value regarding alternative\n",
    "(p_null_7 > p_diff_7.mean()).mean()"
   ]
  },
  {
   "cell_type": "markdown",
   "id": "4b714ce3",
   "metadata": {},
   "source": [
    "c-Our p-value is  exceeds the critical value of 0.025 in this case and so we shouldn't reject the null hypothesis, so we should stick with gate_30 and not move up to gate_40.Users in Gate30 have higher 7 day retention than Gate40 fail to reject null"
   ]
  },
  {
   "cell_type": "markdown",
   "id": "d7386531",
   "metadata": {},
   "source": [
    "<h3>Conclusion"
   ]
  },
  {
   "cell_type": "markdown",
   "id": "1d955a93",
   "metadata": {},
   "source": [
    " Which level has more advantages in terms of player retention?¶\n",
    "1-day and 7-day average retention are higher when the gate is at level 30 than when it is at level 40.\n",
    "\n",
    "The bootstrap result tells us that there is strong evidence that 7-day retention is higher when the gate is at level 30 than when it is at level 40. The conclusion is: If we want to keep retention high — both 1-day and 7-day retention — we should not move the gate from level 30 to level 40.\n",
    "\n"
   ]
  },
  {
   "cell_type": "code",
   "execution_count": 31,
   "id": "5185fb9a",
   "metadata": {
    "scrolled": true
   },
   "outputs": [
    {
     "data": {
      "text/plain": [
       "(version\n",
       " gate_30    0.448188\n",
       " gate_40    0.442283\n",
       " Name: retention_1, dtype: float64,\n",
       " version\n",
       " gate_30    0.190201\n",
       " gate_40    0.182000\n",
       " Name: retention_7, dtype: float64)"
      ]
     },
     "execution_count": 31,
     "metadata": {},
     "output_type": "execute_result"
    }
   ],
   "source": [
    "df.groupby(\"version\").retention_1.mean(), df.groupby(\"version\").retention_7.mean()\n"
   ]
  },
  {
   "cell_type": "markdown",
   "id": "d24e7cfe",
   "metadata": {},
   "source": [
    "The gate should be at level 30 but average retentions look like similar. We need more data for similarity."
   ]
  }
 ],
 "metadata": {
  "kernelspec": {
   "display_name": "Python 3",
   "language": "python",
   "name": "python3"
  },
  "language_info": {
   "codemirror_mode": {
    "name": "ipython",
    "version": 3
   },
   "file_extension": ".py",
   "mimetype": "text/x-python",
   "name": "python",
   "nbconvert_exporter": "python",
   "pygments_lexer": "ipython3",
   "version": "3.8.8"
  }
 },
 "nbformat": 4,
 "nbformat_minor": 5
}
